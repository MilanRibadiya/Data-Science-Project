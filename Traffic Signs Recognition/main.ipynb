{
 "cells": [
  {
   "cell_type": "code",
   "execution_count": 1,
   "id": "e550d363",
   "metadata": {},
   "outputs": [],
   "source": [
    "import numpy as np\n",
    "import pandas as pd\n",
    "import matplotlib.pyplot as plt\n",
    "%matplotlib inline\n",
    "from PIL import Image\n",
    "import tensorflow as tf\n",
    "import os\n",
    "from keras.utils import to_categorical\n",
    "from keras.models import Sequential\n",
    "from keras.layers import Conv2D,MaxPool2D,Dense,Flatten,Dropout\n",
    "from sklearn.model_selection import train_test_split"
   ]
  },
  {
   "cell_type": "code",
   "execution_count": 5,
   "id": "d5499a4c",
   "metadata": {},
   "outputs": [],
   "source": [
    "data=[]\n",
    "lables=[]\n",
    "classes=1\n",
    "pwd=os.getcwd()\n",
    "\n",
    "for i in range(classes):\n",
    "    path=os.path.join(pwd,'train',str(i))\n",
    "    images=os.listdir(path)\n",
    "    \n",
    "    for a in images:\n",
    "        try:\n",
    "            image=Image.open(path+'\\\\'+a)\n",
    "            image=image.resize((30,30))\n",
    "            image=np.array(image)\n",
    "            data.append(image)\n",
    "            lables.append(i)\n",
    "        except:\n",
    "            print(\"Error image loading...\")\n",
    "            \n",
    "data=np.array(data)\n",
    "labels=np.array(lables)"
   ]
  },
  {
   "cell_type": "code",
   "execution_count": 6,
   "id": "40a9d261",
   "metadata": {},
   "outputs": [
    {
     "data": {
      "text/plain": [
       "<matplotlib.image.AxesImage at 0x1ebd8f17730>"
      ]
     },
     "execution_count": 6,
     "metadata": {},
     "output_type": "execute_result"
    },
    {
     "data": {
      "image/png": "[encoded data removed]",
      "text/plain": [
       "<Figure size 480x480 with 1 Axes>"
      ]
     },
     "metadata": {},
     "output_type": "display_data"
    }
   ],
   "source": [
    "plt.matshow(data[100])"
   ]
  },
  {
   "cell_type": "code",
   "execution_count": 18,
   "id": "5f7a69aa",
   "metadata": {},
   "outputs": [
    {
     "data": {
      "text/plain": [
       "(39209, 30, 30, 3)"
      ]
     },
     "execution_count": 18,
     "metadata": {},
     "output_type": "execute_result"
    }
   ],
   "source": [
    "data.shape"
   ]
  },
  {
   "cell_type": "code",
   "execution_count": 19,
   "id": "9aebdf73",
   "metadata": {},
   "outputs": [],
   "source": [
    "x_train,x_test,y_train,y_test=train_test_split(data,labels,test_size=0.2,random_state=12)"
   ]
  },
  {
   "cell_type": "code",
   "execution_count": 26,
   "id": "20181d2b",
   "metadata": {},
   "outputs": [
    {
     "data": {
      "text/plain": [
       "array([34, 24, 38, ..., 32,  8, 27])"
      ]
     },
     "execution_count": 26,
     "metadata": {},
     "output_type": "execute_result"
    }
   ],
   "source": [
    "y_test"
   ]
  },
  {
   "cell_type": "code",
   "execution_count": 27,
   "id": "283f777e",
   "metadata": {},
   "outputs": [],
   "source": [
    "y_train=to_categorical(y_train,43)\n",
    "y_test=to_categorical(y_test,43)"
   ]
  },
  {
   "cell_type": "code",
   "execution_count": 31,
   "id": "9853ee95",
   "metadata": {},
   "outputs": [
    {
     "data": {
      "text/plain": [
       "array([0., 0., 0., 0., 0., 0., 0., 0., 0., 0., 0., 0., 0., 0., 0., 0., 0.,\n",
       "       0., 0., 0., 0., 0., 0., 0., 0., 0., 0., 0., 0., 0., 0., 0., 0., 0.,\n",
       "       0., 0., 0., 0., 1., 0., 0., 0., 0.], dtype=float32)"
      ]
     },
     "execution_count": 31,
     "metadata": {},
     "output_type": "execute_result"
    }
   ],
   "source": [
    "y_train[8]"
   ]
  },
  {
   "cell_type": "code",
   "execution_count": 38,
   "id": "d834503f",
   "metadata": {},
   "outputs": [],
   "source": [
    "model=Sequential()\n",
    "\n",
    "model.add(Conv2D(filters=32,kernel_size=(5,5),activation='relu',input_shape=x_train.shape[1:]))\n",
    "model.add(Conv2D(filters=32,kernel_size=(5,5),activation='relu'))\n",
    "model.add(MaxPool2D(pool_size=(2,2)))\n",
    "model.add(Dropout(rate=0.25))\n",
    "model.add(Conv2D(filters=64,kernel_size=(3,3),activation='relu'))\n",
    "model.add(Conv2D(filters=64,kernel_size=(3,3),activation='relu'))\n",
    "model.add(MaxPool2D(pool_size=(2,2)))\n",
    "model.add(Dropout(rate=0.25))\n",
    "model.add(Flatten())\n",
    "model.add(Dense(256,activation='relu'))\n",
    "model.add(Dropout(rate=0.5))\n",
    "model.add(Dense(43,activation='softmax'))\n",
    "\n",
    "\n",
    "model.compile(loss='categorical_crossentropy',optimizer='adam',metrics=['accuracy'])"
   ]
  },
  {
   "cell_type": "code",
   "execution_count": 35,
   "id": "13177bd8",
   "metadata": {},
   "outputs": [
    {
     "data": {
      "text/plain": [
       "(30, 30, 3)"
      ]
     },
     "execution_count": 35,
     "metadata": {},
     "output_type": "execute_result"
    }
   ],
   "source": [
    "x_train.shape[1:]"
   ]
  },
  {
   "cell_type": "code",
   "execution_count": 39,
   "id": "710714ff",
   "metadata": {},
   "outputs": [
    {
     "name": "stdout",
     "output_type": "stream",
     "text": [
      "Epoch 1/15\n",
      "491/491 [==============================] - 65s 131ms/step - loss: 2.3708 - accuracy: 0.3965 - val_loss: 0.7655 - val_accuracy: 0.8073\n",
      "Epoch 2/15\n",
      "491/491 [==============================] - 54s 111ms/step - loss: 1.0080 - accuracy: 0.7009 - val_loss: 0.4037 - val_accuracy: 0.8849\n",
      "Epoch 3/15\n",
      "491/491 [==============================] - 50s 102ms/step - loss: 0.6550 - accuracy: 0.8008 - val_loss: 0.2169 - val_accuracy: 0.9313\n",
      "Epoch 4/15\n",
      "491/491 [==============================] - 51s 104ms/step - loss: 0.4446 - accuracy: 0.8640 - val_loss: 0.1411 - val_accuracy: 0.9617\n",
      "Epoch 5/15\n",
      "491/491 [==============================] - 52s 106ms/step - loss: 0.3387 - accuracy: 0.8999 - val_loss: 0.0881 - val_accuracy: 0.9763\n",
      "Epoch 6/15\n",
      "491/491 [==============================] - 170s 346ms/step - loss: 0.2901 - accuracy: 0.9132 - val_loss: 0.0760 - val_accuracy: 0.9805\n",
      "Epoch 7/15\n",
      "491/491 [==============================] - 61s 125ms/step - loss: 0.2300 - accuracy: 0.9327 - val_loss: 0.0641 - val_accuracy: 0.9821\n",
      "Epoch 8/15\n",
      "491/491 [==============================] - 60s 122ms/step - loss: 0.2115 - accuracy: 0.9384 - val_loss: 0.0470 - val_accuracy: 0.9883\n",
      "Epoch 9/15\n",
      "491/491 [==============================] - 58s 119ms/step - loss: 0.2047 - accuracy: 0.9407 - val_loss: 0.0599 - val_accuracy: 0.9847\n",
      "Epoch 10/15\n",
      "491/491 [==============================] - 60s 123ms/step - loss: 0.1885 - accuracy: 0.9443 - val_loss: 0.0475 - val_accuracy: 0.9875\n",
      "Epoch 11/15\n",
      "491/491 [==============================] - 56s 115ms/step - loss: 0.1755 - accuracy: 0.9496 - val_loss: 0.0413 - val_accuracy: 0.9894\n",
      "Epoch 12/15\n",
      "491/491 [==============================] - 56s 113ms/step - loss: 0.1762 - accuracy: 0.9491 - val_loss: 0.0517 - val_accuracy: 0.9864\n",
      "Epoch 13/15\n",
      "491/491 [==============================] - 51s 103ms/step - loss: 0.1529 - accuracy: 0.9559 - val_loss: 0.0407 - val_accuracy: 0.9879\n",
      "Epoch 14/15\n",
      "491/491 [==============================] - 55s 111ms/step - loss: 0.1616 - accuracy: 0.9550 - val_loss: 0.0403 - val_accuracy: 0.9881\n",
      "Epoch 15/15\n",
      "491/491 [==============================] - 60s 123ms/step - loss: 0.1470 - accuracy: 0.9587 - val_loss: 0.0467 - val_accuracy: 0.9878\n"
     ]
    }
   ],
   "source": [
    "history=model.fit(x_train,y_train,batch_size=64,epochs=15,validation_data=(x_test,y_test))"
   ]
  },
  {
   "cell_type": "code",
   "execution_count": 46,
   "id": "24c11e86",
   "metadata": {},
   "outputs": [],
   "source": [
    "from sklearn.metrics import accuracy_score\n",
    "\n",
    "y_test=pd.read_csv('Test.csv')\n",
    "\n",
    "lbl=y_test['ClassId']\n",
    "imgs=y_test['Path']\n",
    "\n",
    "d=[]\n",
    "\n",
    "for i in imgs:\n",
    "    image=Image.open(i)\n",
    "    image=image.resize((30,30))\n",
    "    d.append(np.array(image))\n",
    "    \n",
    "x_test=np.array(d)\n"
   ]
  },
  {
   "cell_type": "code",
   "execution_count": null,
   "id": "5e4c8199",
   "metadata": {},
   "outputs": [],
   "source": [
    "pred=model.predict(x_test)\n",
    "\n",
    "accuracy_score(lbl,pred)"
   ]
  },
  {
   "cell_type": "code",
   "execution_count": 57,
   "id": "b7e109ac",
   "metadata": {},
   "outputs": [
    {
     "data": {
      "text/plain": [
       "14"
      ]
     },
     "execution_count": 57,
     "metadata": {},
     "output_type": "execute_result"
    }
   ],
   "source": [
    "np.argmax(pred[489])"
   ]
  },
  {
   "cell_type": "code",
   "execution_count": 58,
   "id": "192857de",
   "metadata": {},
   "outputs": [
    {
     "data": {
      "text/plain": [
       "14"
      ]
     },
     "execution_count": 58,
     "metadata": {},
     "output_type": "execute_result"
    }
   ],
   "source": [
    "lbl[489]"
   ]
  },
  {
   "cell_type": "code",
   "execution_count": 73,
   "id": "81ed7bf0",
   "metadata": {},
   "outputs": [],
   "source": [
    "model.save('traffic_classifier.h5')"
   ]
  },
  {
   "cell_type": "code",
   "execution_count": 74,
   "id": "956eca75",
   "metadata": {},
   "outputs": [
    {
     "name": "stderr",
     "output_type": "stream",
     "text": [
      "Exception in Tkinter callback\n",
      "Traceback (most recent call last):\n",
      "  File \"C:\\Users\\Milan Ribadiya\\anaconda3\\lib\\tkinter\\__init__.py\", line 1892, in __call__\n",
      "    return self.func(*args)\n",
      "  File \"C:\\Users\\Milan Ribadiya\\AppData\\Local\\Temp\\ipykernel_1416\\1753678235.py\", line 77, in <lambda>\n",
      "    classify_b=Button(top,text=\"Classify Image\",command=lambda: classify(file_path),padx=10,pady=5)\n",
      "  File \"C:\\Users\\Milan Ribadiya\\AppData\\Local\\Temp\\ipykernel_1416\\1753678235.py\", line 71, in classify\n",
      "    pred = model.predict_classes([image])[0]\n",
      "AttributeError: 'Sequential' object has no attribute 'predict_classes'\n",
      "Exception in Tkinter callback\n",
      "Traceback (most recent call last):\n",
      "  File \"C:\\Users\\Milan Ribadiya\\anaconda3\\lib\\tkinter\\__init__.py\", line 1892, in __call__\n",
      "    return self.func(*args)\n",
      "  File \"C:\\Users\\Milan Ribadiya\\AppData\\Local\\Temp\\ipykernel_1416\\1753678235.py\", line 77, in <lambda>\n",
      "    classify_b=Button(top,text=\"Classify Image\",command=lambda: classify(file_path),padx=10,pady=5)\n",
      "  File \"C:\\Users\\Milan Ribadiya\\AppData\\Local\\Temp\\ipykernel_1416\\1753678235.py\", line 71, in classify\n",
      "    pred = model.predict_classes([image])[0]\n",
      "AttributeError: 'Sequential' object has no attribute 'predict_classes'\n",
      "Exception in Tkinter callback\n",
      "Traceback (most recent call last):\n",
      "  File \"C:\\Users\\Milan Ribadiya\\anaconda3\\lib\\tkinter\\__init__.py\", line 1892, in __call__\n",
      "    return self.func(*args)\n",
      "  File \"C:\\Users\\Milan Ribadiya\\AppData\\Local\\Temp\\ipykernel_1416\\1753678235.py\", line 77, in <lambda>\n",
      "    classify_b=Button(top,text=\"Classify Image\",command=lambda: classify(file_path),padx=10,pady=5)\n",
      "  File \"C:\\Users\\Milan Ribadiya\\AppData\\Local\\Temp\\ipykernel_1416\\1753678235.py\", line 71, in classify\n",
      "    pred = model.predict_classes([image])[0]\n",
      "AttributeError: 'Sequential' object has no attribute 'predict_classes'\n",
      "Exception in Tkinter callback\n",
      "Traceback (most recent call last):\n",
      "  File \"C:\\Users\\Milan Ribadiya\\anaconda3\\lib\\tkinter\\__init__.py\", line 1892, in __call__\n",
      "    return self.func(*args)\n",
      "  File \"C:\\Users\\Milan Ribadiya\\AppData\\Local\\Temp\\ipykernel_1416\\1753678235.py\", line 77, in <lambda>\n",
      "    classify_b=Button(top,text=\"Classify Image\",command=lambda: classify(file_path),padx=10,pady=5)\n",
      "  File \"C:\\Users\\Milan Ribadiya\\AppData\\Local\\Temp\\ipykernel_1416\\1753678235.py\", line 71, in classify\n",
      "    pred = model.predict_classes([image])[0]\n",
      "AttributeError: 'Sequential' object has no attribute 'predict_classes'\n"
     ]
    }
   ],
   "source": [
    "import tkinter as tk\n",
    "from tkinter import filedialog\n",
    "from tkinter import *\n",
    "from PIL import ImageTk, Image\n",
    "\n",
    "import numpy\n",
    "#load the trained model to classify sign\n",
    "from keras.models import load_model\n",
    "model = load_model('traffic_classifier.h5')\n",
    "\n",
    "#dictionary to label all traffic signs class.\n",
    "classes = { 1:'Speed limit (20km/h)',\n",
    "            2:'Speed limit (30km/h)', \n",
    "            3:'Speed limit (50km/h)', \n",
    "            4:'Speed limit (60km/h)', \n",
    "            5:'Speed limit (70km/h)', \n",
    "            6:'Speed limit (80km/h)', \n",
    "            7:'End of speed limit (80km/h)', \n",
    "            8:'Speed limit (100km/h)', \n",
    "            9:'Speed limit (120km/h)', \n",
    "            10:'No passing', \n",
    "            11:'No passing veh over 3.5 tons', \n",
    "            12:'Right-of-way at intersection', \n",
    "            13:'Priority road', \n",
    "            14:'Yield', \n",
    "            15:'Stop', \n",
    "            16:'No vehicles', \n",
    "            17:'Veh > 3.5 tons prohibited', \n",
    "            18:'No entry', \n",
    "            19:'General caution', \n",
    "            20:'Dangerous curve left', \n",
    "            21:'Dangerous curve right', \n",
    "            22:'Double curve', \n",
    "            23:'Bumpy road', \n",
    "            24:'Slippery road', \n",
    "            25:'Road narrows on the right', \n",
    "            26:'Road work', \n",
    "            27:'Traffic signals', \n",
    "            28:'Pedestrians', \n",
    "            29:'Children crossing', \n",
    "            30:'Bicycles crossing', \n",
    "            31:'Beware of ice/snow',\n",
    "            32:'Wild animals crossing', \n",
    "            33:'End speed + passing limits', \n",
    "            34:'Turn right ahead', \n",
    "            35:'Turn left ahead', \n",
    "            36:'Ahead only', \n",
    "            37:'Go straight or right', \n",
    "            38:'Go straight or left', \n",
    "            39:'Keep right', \n",
    "            40:'Keep left', \n",
    "            41:'Roundabout mandatory', \n",
    "            42:'End of no passing', \n",
    "            43:'End no passing veh > 3.5 tons' }\n",
    "\n",
    "#initialise GUI\n",
    "top=tk.Tk()\n",
    "top.geometry('800x600')\n",
    "top.title('Traffic sign classification')\n",
    "top.configure(background='#CDCDCD')\n",
    "\n",
    "label=Label(top,background='#CDCDCD', font=('arial',15,'bold'))\n",
    "sign_image = Label(top)\n",
    "\n",
    "def classify(file_path):\n",
    "    global label_packed\n",
    "    image = Image.open(file_path)\n",
    "    image = image.resize((30,30))\n",
    "    image = numpy.expand_dims(image, axis=0)\n",
    "    image = numpy.array(image)\n",
    "    pred = model.predict_classes([image])[0]\n",
    "    sign = classes[pred+1]\n",
    "    print(sign)\n",
    "    label.configure(foreground='#011638', text=sign) \n",
    "\n",
    "def show_classify_button(file_path):\n",
    "    classify_b=Button(top,text=\"Classify Image\",command=lambda: classify(file_path),padx=10,pady=5)\n",
    "    classify_b.configure(background='#364156', foreground='white',font=('arial',10,'bold'))\n",
    "    classify_b.place(relx=0.79,rely=0.46)\n",
    "\n",
    "def upload_image():\n",
    "    try:\n",
    "        file_path=filedialog.askopenfilename()\n",
    "        uploaded=Image.open(file_path)\n",
    "        uploaded.thumbnail(((top.winfo_width()/2.25),(top.winfo_height()/2.25)))\n",
    "        im=ImageTk.PhotoImage(uploaded)\n",
    "\n",
    "        sign_image.configure(image=im)\n",
    "        sign_image.image=im\n",
    "        label.configure(text='')\n",
    "        show_classify_button(file_path)\n",
    "    except:\n",
    "        pass\n",
    "\n",
    "upload=Button(top,text=\"Upload an image\",command=upload_image,padx=10,pady=5)\n",
    "upload.configure(background='#364156', foreground='white',font=('arial',10,'bold'))\n",
    "\n",
    "upload.pack(side=BOTTOM,pady=50)\n",
    "sign_image.pack(side=BOTTOM,expand=True)\n",
    "label.pack(side=BOTTOM,expand=True)\n",
    "heading = Label(top, text=\"Know Your Traffic Sign\",pady=20, font=('arial',20,'bold'))\n",
    "heading.configure(background='#CDCDCD',foreground='#364156')\n",
    "heading.pack()\n",
    "top.mainloop()"
   ]
  },
  {
   "cell_type": "code",
   "execution_count": null,
   "id": "03274d34",
   "metadata": {},
   "outputs": [],
   "source": []
  }
 ],
 "metadata": {
  "kernelspec": {
   "display_name": "Python 3 (ipykernel)",
   "language": "python",
   "name": "python3"
  },
  "language_info": {
   "codemirror_mode": {
    "name": "ipython",
    "version": 3
   },
   "file_extension": ".py",
   "mimetype": "text/x-python",
   "name": "python",
   "nbconvert_exporter": "python",
   "pygments_lexer": "ipython3",
   "version": "3.9.13"
  }
 },
 "nbformat": 4,
 "nbformat_minor": 5
}
