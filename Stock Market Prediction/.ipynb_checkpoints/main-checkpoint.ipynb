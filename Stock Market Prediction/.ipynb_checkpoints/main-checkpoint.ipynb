{
 "cells": [
  {
   "cell_type": "code",
   "execution_count": 1,
   "id": "4596525f",
   "metadata": {},
   "outputs": [],
   "source": [
    "import numpy as np\n",
    "import pandas as pd\n",
    "import os\n",
    "import matplotlib.pyplot as plt"
   ]
  },
  {
   "cell_type": "code",
   "execution_count": 4,
   "id": "3aa432c2",
   "metadata": {},
   "outputs": [],
   "source": [
    "data=pd.read_csv(\"infosys_data.csv\")"
   ]
  },
  {
   "cell_type": "code",
   "execution_count": 5,
   "id": "d26dcce6",
   "metadata": {},
   "outputs": [
    {
     "data": {
      "text/html": [
       "<div>\n",
       "<style scoped>\n",
       "    .dataframe tbody tr th:only-of-type {\n",
       "        vertical-align: middle;\n",
       "    }\n",
       "\n",
       "    .dataframe tbody tr th {\n",
       "        vertical-align: top;\n",
       "    }\n",
       "\n",
       "    .dataframe thead th {\n",
       "        text-align: right;\n",
       "    }\n",
       "</style>\n",
       "<table border=\"1\" class=\"dataframe\">\n",
       "  <thead>\n",
       "    <tr style=\"text-align: right;\">\n",
       "      <th></th>\n",
       "      <th>Date</th>\n",
       "      <th>Open</th>\n",
       "      <th>High</th>\n",
       "      <th>Low</th>\n",
       "      <th>Close</th>\n",
       "      <th>Adj Close</th>\n",
       "      <th>Volume</th>\n",
       "    </tr>\n",
       "  </thead>\n",
       "  <tbody>\n",
       "    <tr>\n",
       "      <th>0</th>\n",
       "      <td>1996-01-01</td>\n",
       "      <td>0.794921</td>\n",
       "      <td>0.796679</td>\n",
       "      <td>0.791015</td>\n",
       "      <td>0.796679</td>\n",
       "      <td>0.549483</td>\n",
       "      <td>204800.0</td>\n",
       "    </tr>\n",
       "    <tr>\n",
       "      <th>1</th>\n",
       "      <td>1996-01-02</td>\n",
       "      <td>0.794921</td>\n",
       "      <td>0.798828</td>\n",
       "      <td>0.793457</td>\n",
       "      <td>0.793457</td>\n",
       "      <td>0.547260</td>\n",
       "      <td>204800.0</td>\n",
       "    </tr>\n",
       "    <tr>\n",
       "      <th>2</th>\n",
       "      <td>1996-01-03</td>\n",
       "      <td>0.798828</td>\n",
       "      <td>0.798828</td>\n",
       "      <td>0.798828</td>\n",
       "      <td>0.798828</td>\n",
       "      <td>0.550965</td>\n",
       "      <td>102400.0</td>\n",
       "    </tr>\n",
       "    <tr>\n",
       "      <th>3</th>\n",
       "      <td>1996-01-04</td>\n",
       "      <td>0.791015</td>\n",
       "      <td>0.794921</td>\n",
       "      <td>0.791015</td>\n",
       "      <td>0.793554</td>\n",
       "      <td>0.547327</td>\n",
       "      <td>307200.0</td>\n",
       "    </tr>\n",
       "    <tr>\n",
       "      <th>4</th>\n",
       "      <td>1996-01-05</td>\n",
       "      <td>0.784179</td>\n",
       "      <td>0.784179</td>\n",
       "      <td>0.784179</td>\n",
       "      <td>0.784179</td>\n",
       "      <td>0.540861</td>\n",
       "      <td>51200.0</td>\n",
       "    </tr>\n",
       "    <tr>\n",
       "      <th>...</th>\n",
       "      <td>...</td>\n",
       "      <td>...</td>\n",
       "      <td>...</td>\n",
       "      <td>...</td>\n",
       "      <td>...</td>\n",
       "      <td>...</td>\n",
       "      <td>...</td>\n",
       "    </tr>\n",
       "    <tr>\n",
       "      <th>6496</th>\n",
       "      <td>2021-10-12</td>\n",
       "      <td>1677.000000</td>\n",
       "      <td>1689.000000</td>\n",
       "      <td>1662.000000</td>\n",
       "      <td>1685.150024</td>\n",
       "      <td>1685.150024</td>\n",
       "      <td>7439300.0</td>\n",
       "    </tr>\n",
       "    <tr>\n",
       "      <th>6497</th>\n",
       "      <td>2021-10-13</td>\n",
       "      <td>1695.949951</td>\n",
       "      <td>1713.650024</td>\n",
       "      <td>1680.050049</td>\n",
       "      <td>1709.199951</td>\n",
       "      <td>1709.199951</td>\n",
       "      <td>7104171.0</td>\n",
       "    </tr>\n",
       "    <tr>\n",
       "      <th>6498</th>\n",
       "      <td>2021-10-14</td>\n",
       "      <td>1754.000000</td>\n",
       "      <td>1783.599976</td>\n",
       "      <td>1698.199951</td>\n",
       "      <td>1715.750000</td>\n",
       "      <td>1715.750000</td>\n",
       "      <td>19655776.0</td>\n",
       "    </tr>\n",
       "    <tr>\n",
       "      <th>6499</th>\n",
       "      <td>2021-10-18</td>\n",
       "      <td>1740.000000</td>\n",
       "      <td>1799.000000</td>\n",
       "      <td>1740.000000</td>\n",
       "      <td>1792.150024</td>\n",
       "      <td>1792.150024</td>\n",
       "      <td>13438109.0</td>\n",
       "    </tr>\n",
       "    <tr>\n",
       "      <th>6500</th>\n",
       "      <td>2021-10-19</td>\n",
       "      <td>1814.000000</td>\n",
       "      <td>1834.500000</td>\n",
       "      <td>1782.300049</td>\n",
       "      <td>1822.150024</td>\n",
       "      <td>1822.150024</td>\n",
       "      <td>10324260.0</td>\n",
       "    </tr>\n",
       "  </tbody>\n",
       "</table>\n",
       "<p>6501 rows × 7 columns</p>\n",
       "</div>"
      ],
      "text/plain": [
       "            Date         Open         High          Low        Close  \\\n",
       "0     1996-01-01     0.794921     0.796679     0.791015     0.796679   \n",
       "1     1996-01-02     0.794921     0.798828     0.793457     0.793457   \n",
       "2     1996-01-03     0.798828     0.798828     0.798828     0.798828   \n",
       "3     1996-01-04     0.791015     0.794921     0.791015     0.793554   \n",
       "4     1996-01-05     0.784179     0.784179     0.784179     0.784179   \n",
       "...          ...          ...          ...          ...          ...   \n",
       "6496  2021-10-12  1677.000000  1689.000000  1662.000000  1685.150024   \n",
       "6497  2021-10-13  1695.949951  1713.650024  1680.050049  1709.199951   \n",
       "6498  2021-10-14  1754.000000  1783.599976  1698.199951  1715.750000   \n",
       "6499  2021-10-18  1740.000000  1799.000000  1740.000000  1792.150024   \n",
       "6500  2021-10-19  1814.000000  1834.500000  1782.300049  1822.150024   \n",
       "\n",
       "        Adj Close      Volume  \n",
       "0        0.549483    204800.0  \n",
       "1        0.547260    204800.0  \n",
       "2        0.550965    102400.0  \n",
       "3        0.547327    307200.0  \n",
       "4        0.540861     51200.0  \n",
       "...           ...         ...  \n",
       "6496  1685.150024   7439300.0  \n",
       "6497  1709.199951   7104171.0  \n",
       "6498  1715.750000  19655776.0  \n",
       "6499  1792.150024  13438109.0  \n",
       "6500  1822.150024  10324260.0  \n",
       "\n",
       "[6501 rows x 7 columns]"
      ]
     },
     "execution_count": 5,
     "metadata": {},
     "output_type": "execute_result"
    }
   ],
   "source": [
    "data"
   ]
  },
  {
   "cell_type": "code",
   "execution_count": 16,
   "id": "4f062e10",
   "metadata": {},
   "outputs": [
    {
     "data": {
      "text/html": [
       "<div>\n",
       "<style scoped>\n",
       "    .dataframe tbody tr th:only-of-type {\n",
       "        vertical-align: middle;\n",
       "    }\n",
       "\n",
       "    .dataframe tbody tr th {\n",
       "        vertical-align: top;\n",
       "    }\n",
       "\n",
       "    .dataframe thead th {\n",
       "        text-align: right;\n",
       "    }\n",
       "</style>\n",
       "<table border=\"1\" class=\"dataframe\">\n",
       "  <thead>\n",
       "    <tr style=\"text-align: right;\">\n",
       "      <th></th>\n",
       "      <th>Open</th>\n",
       "      <th>High</th>\n",
       "      <th>Low</th>\n",
       "      <th>Close</th>\n",
       "      <th>Adj Close</th>\n",
       "      <th>Volume</th>\n",
       "    </tr>\n",
       "  </thead>\n",
       "  <tbody>\n",
       "    <tr>\n",
       "      <th>count</th>\n",
       "      <td>6487.000000</td>\n",
       "      <td>6487.000000</td>\n",
       "      <td>6487.000000</td>\n",
       "      <td>6487.000000</td>\n",
       "      <td>6487.000000</td>\n",
       "      <td>6.487000e+03</td>\n",
       "    </tr>\n",
       "    <tr>\n",
       "      <th>mean</th>\n",
       "      <td>315.959501</td>\n",
       "      <td>319.722653</td>\n",
       "      <td>312.134399</td>\n",
       "      <td>315.928990</td>\n",
       "      <td>275.373725</td>\n",
       "      <td>1.529716e+07</td>\n",
       "    </tr>\n",
       "    <tr>\n",
       "      <th>std</th>\n",
       "      <td>317.395127</td>\n",
       "      <td>320.568211</td>\n",
       "      <td>314.366051</td>\n",
       "      <td>317.494593</td>\n",
       "      <td>311.783465</td>\n",
       "      <td>1.616161e+07</td>\n",
       "    </tr>\n",
       "    <tr>\n",
       "      <th>min</th>\n",
       "      <td>0.763183</td>\n",
       "      <td>0.765625</td>\n",
       "      <td>0.712890</td>\n",
       "      <td>0.763183</td>\n",
       "      <td>0.526380</td>\n",
       "      <td>0.000000e+00</td>\n",
       "    </tr>\n",
       "    <tr>\n",
       "      <th>25%</th>\n",
       "      <td>69.492970</td>\n",
       "      <td>70.921875</td>\n",
       "      <td>68.063671</td>\n",
       "      <td>69.482033</td>\n",
       "      <td>49.189633</td>\n",
       "      <td>6.036795e+06</td>\n",
       "    </tr>\n",
       "    <tr>\n",
       "      <th>50%</th>\n",
       "      <td>237.500000</td>\n",
       "      <td>241.587494</td>\n",
       "      <td>233.206253</td>\n",
       "      <td>238.268753</td>\n",
       "      <td>179.381546</td>\n",
       "      <td>9.594120e+06</td>\n",
       "    </tr>\n",
       "    <tr>\n",
       "      <th>75%</th>\n",
       "      <td>473.500000</td>\n",
       "      <td>479.237503</td>\n",
       "      <td>470.049988</td>\n",
       "      <td>474.728119</td>\n",
       "      <td>414.672867</td>\n",
       "      <td>1.821839e+07</td>\n",
       "    </tr>\n",
       "    <tr>\n",
       "      <th>max</th>\n",
       "      <td>1814.000000</td>\n",
       "      <td>1834.500000</td>\n",
       "      <td>1782.300049</td>\n",
       "      <td>1822.150024</td>\n",
       "      <td>1822.150024</td>\n",
       "      <td>2.766150e+08</td>\n",
       "    </tr>\n",
       "  </tbody>\n",
       "</table>\n",
       "</div>"
      ],
      "text/plain": [
       "              Open         High          Low        Close    Adj Close  \\\n",
       "count  6487.000000  6487.000000  6487.000000  6487.000000  6487.000000   \n",
       "mean    315.959501   319.722653   312.134399   315.928990   275.373725   \n",
       "std     317.395127   320.568211   314.366051   317.494593   311.783465   \n",
       "min       0.763183     0.765625     0.712890     0.763183     0.526380   \n",
       "25%      69.492970    70.921875    68.063671    69.482033    49.189633   \n",
       "50%     237.500000   241.587494   233.206253   238.268753   179.381546   \n",
       "75%     473.500000   479.237503   470.049988   474.728119   414.672867   \n",
       "max    1814.000000  1834.500000  1782.300049  1822.150024  1822.150024   \n",
       "\n",
       "             Volume  \n",
       "count  6.487000e+03  \n",
       "mean   1.529716e+07  \n",
       "std    1.616161e+07  \n",
       "min    0.000000e+00  \n",
       "25%    6.036795e+06  \n",
       "50%    9.594120e+06  \n",
       "75%    1.821839e+07  \n",
       "max    2.766150e+08  "
      ]
     },
     "execution_count": 16,
     "metadata": {},
     "output_type": "execute_result"
    }
   ],
   "source": [
    "data.describe()"
   ]
  },
  {
   "cell_type": "code",
   "execution_count": 19,
   "id": "b160d740",
   "metadata": {},
   "outputs": [
    {
     "data": {
      "text/plain": [
       "[<matplotlib.lines.Line2D at 0x143e5edbcd0>]"
      ]
     },
     "execution_count": 19,
     "metadata": {},
     "output_type": "execute_result"
    },
    {
     "data": {
      "image/png": "[encoded data removed]",
      "text/plain": [
       "<Figure size 432x288 with 1 Axes>"
      ]
     },
     "metadata": {
      "needs_background": "light"
     },
     "output_type": "display_data"
    }
   ],
   "source": [
    "%matplotlib inline\n",
    "\n",
    "plt.plot(data.Close,color='orange')\n",
    "plt.plot(data['Adj Close'],color='blue')"
   ]
  },
  {
   "cell_type": "code",
   "execution_count": 20,
   "id": "14b2dd35",
   "metadata": {},
   "outputs": [
    {
     "data": {
      "text/plain": [
       "Date          0\n",
       "Open         14\n",
       "High         14\n",
       "Low          14\n",
       "Close        14\n",
       "Adj Close    14\n",
       "Volume       14\n",
       "dtype: int64"
      ]
     },
     "execution_count": 20,
     "metadata": {},
     "output_type": "execute_result"
    }
   ],
   "source": [
    "data.isnull().sum()"
   ]
  },
  {
   "cell_type": "code",
   "execution_count": 24,
   "id": "014c3cf7",
   "metadata": {},
   "outputs": [],
   "source": [
    "data=data.dropna()"
   ]
  },
  {
   "cell_type": "code",
   "execution_count": 64,
   "id": "3eb89651",
   "metadata": {},
   "outputs": [
    {
     "name": "stderr",
     "output_type": "stream",
     "text": [
      "C:\\Users\\MILANR~1\\AppData\\Local\\Temp/ipykernel_14884/1926760503.py:5: SettingWithCopyWarning: \n",
      "A value is trying to be set on a copy of a slice from a DataFrame.\n",
      "Try using .loc[row_indexer,col_indexer] = value instead\n",
      "\n",
      "See the caveats in the documentation: https://pandas.pydata.org/pandas-docs/stable/user_guide/indexing.html#returning-a-view-versus-a-copy\n",
      "  data['day']=splitted[2].astype('int')\n",
      "C:\\Users\\MILANR~1\\AppData\\Local\\Temp/ipykernel_14884/1926760503.py:6: SettingWithCopyWarning: \n",
      "A value is trying to be set on a copy of a slice from a DataFrame.\n",
      "Try using .loc[row_indexer,col_indexer] = value instead\n",
      "\n",
      "See the caveats in the documentation: https://pandas.pydata.org/pandas-docs/stable/user_guide/indexing.html#returning-a-view-versus-a-copy\n",
      "  data['month']=splitted[1].astype('int')\n",
      "C:\\Users\\MILANR~1\\AppData\\Local\\Temp/ipykernel_14884/1926760503.py:7: SettingWithCopyWarning: \n",
      "A value is trying to be set on a copy of a slice from a DataFrame.\n",
      "Try using .loc[row_indexer,col_indexer] = value instead\n",
      "\n",
      "See the caveats in the documentation: https://pandas.pydata.org/pandas-docs/stable/user_guide/indexing.html#returning-a-view-versus-a-copy\n",
      "  data['year']=splitted[0].astype('int')\n"
     ]
    },
    {
     "data": {
      "text/html": [
       "<div>\n",
       "<style scoped>\n",
       "    .dataframe tbody tr th:only-of-type {\n",
       "        vertical-align: middle;\n",
       "    }\n",
       "\n",
       "    .dataframe tbody tr th {\n",
       "        vertical-align: top;\n",
       "    }\n",
       "\n",
       "    .dataframe thead th {\n",
       "        text-align: right;\n",
       "    }\n",
       "</style>\n",
       "<table border=\"1\" class=\"dataframe\">\n",
       "  <thead>\n",
       "    <tr style=\"text-align: right;\">\n",
       "      <th></th>\n",
       "      <th>Date</th>\n",
       "      <th>Open</th>\n",
       "      <th>High</th>\n",
       "      <th>Low</th>\n",
       "      <th>Close</th>\n",
       "      <th>Adj Close</th>\n",
       "      <th>Volume</th>\n",
       "      <th>day</th>\n",
       "      <th>month</th>\n",
       "      <th>year</th>\n",
       "    </tr>\n",
       "  </thead>\n",
       "  <tbody>\n",
       "    <tr>\n",
       "      <th>0</th>\n",
       "      <td>1996-01-01</td>\n",
       "      <td>0.794921</td>\n",
       "      <td>0.796679</td>\n",
       "      <td>0.791015</td>\n",
       "      <td>0.796679</td>\n",
       "      <td>0.549483</td>\n",
       "      <td>204800.0</td>\n",
       "      <td>1</td>\n",
       "      <td>1</td>\n",
       "      <td>1996</td>\n",
       "    </tr>\n",
       "    <tr>\n",
       "      <th>1</th>\n",
       "      <td>1996-01-02</td>\n",
       "      <td>0.794921</td>\n",
       "      <td>0.798828</td>\n",
       "      <td>0.793457</td>\n",
       "      <td>0.793457</td>\n",
       "      <td>0.547260</td>\n",
       "      <td>204800.0</td>\n",
       "      <td>2</td>\n",
       "      <td>1</td>\n",
       "      <td>1996</td>\n",
       "    </tr>\n",
       "    <tr>\n",
       "      <th>2</th>\n",
       "      <td>1996-01-03</td>\n",
       "      <td>0.798828</td>\n",
       "      <td>0.798828</td>\n",
       "      <td>0.798828</td>\n",
       "      <td>0.798828</td>\n",
       "      <td>0.550965</td>\n",
       "      <td>102400.0</td>\n",
       "      <td>3</td>\n",
       "      <td>1</td>\n",
       "      <td>1996</td>\n",
       "    </tr>\n",
       "    <tr>\n",
       "      <th>3</th>\n",
       "      <td>1996-01-04</td>\n",
       "      <td>0.791015</td>\n",
       "      <td>0.794921</td>\n",
       "      <td>0.791015</td>\n",
       "      <td>0.793554</td>\n",
       "      <td>0.547327</td>\n",
       "      <td>307200.0</td>\n",
       "      <td>4</td>\n",
       "      <td>1</td>\n",
       "      <td>1996</td>\n",
       "    </tr>\n",
       "    <tr>\n",
       "      <th>4</th>\n",
       "      <td>1996-01-05</td>\n",
       "      <td>0.784179</td>\n",
       "      <td>0.784179</td>\n",
       "      <td>0.784179</td>\n",
       "      <td>0.784179</td>\n",
       "      <td>0.540861</td>\n",
       "      <td>51200.0</td>\n",
       "      <td>5</td>\n",
       "      <td>1</td>\n",
       "      <td>1996</td>\n",
       "    </tr>\n",
       "    <tr>\n",
       "      <th>...</th>\n",
       "      <td>...</td>\n",
       "      <td>...</td>\n",
       "      <td>...</td>\n",
       "      <td>...</td>\n",
       "      <td>...</td>\n",
       "      <td>...</td>\n",
       "      <td>...</td>\n",
       "      <td>...</td>\n",
       "      <td>...</td>\n",
       "      <td>...</td>\n",
       "    </tr>\n",
       "    <tr>\n",
       "      <th>6496</th>\n",
       "      <td>2021-10-12</td>\n",
       "      <td>1677.000000</td>\n",
       "      <td>1689.000000</td>\n",
       "      <td>1662.000000</td>\n",
       "      <td>1685.150024</td>\n",
       "      <td>1685.150024</td>\n",
       "      <td>7439300.0</td>\n",
       "      <td>12</td>\n",
       "      <td>10</td>\n",
       "      <td>2021</td>\n",
       "    </tr>\n",
       "    <tr>\n",
       "      <th>6497</th>\n",
       "      <td>2021-10-13</td>\n",
       "      <td>1695.949951</td>\n",
       "      <td>1713.650024</td>\n",
       "      <td>1680.050049</td>\n",
       "      <td>1709.199951</td>\n",
       "      <td>1709.199951</td>\n",
       "      <td>7104171.0</td>\n",
       "      <td>13</td>\n",
       "      <td>10</td>\n",
       "      <td>2021</td>\n",
       "    </tr>\n",
       "    <tr>\n",
       "      <th>6498</th>\n",
       "      <td>2021-10-14</td>\n",
       "      <td>1754.000000</td>\n",
       "      <td>1783.599976</td>\n",
       "      <td>1698.199951</td>\n",
       "      <td>1715.750000</td>\n",
       "      <td>1715.750000</td>\n",
       "      <td>19655776.0</td>\n",
       "      <td>14</td>\n",
       "      <td>10</td>\n",
       "      <td>2021</td>\n",
       "    </tr>\n",
       "    <tr>\n",
       "      <th>6499</th>\n",
       "      <td>2021-10-18</td>\n",
       "      <td>1740.000000</td>\n",
       "      <td>1799.000000</td>\n",
       "      <td>1740.000000</td>\n",
       "      <td>1792.150024</td>\n",
       "      <td>1792.150024</td>\n",
       "      <td>13438109.0</td>\n",
       "      <td>18</td>\n",
       "      <td>10</td>\n",
       "      <td>2021</td>\n",
       "    </tr>\n",
       "    <tr>\n",
       "      <th>6500</th>\n",
       "      <td>2021-10-19</td>\n",
       "      <td>1814.000000</td>\n",
       "      <td>1834.500000</td>\n",
       "      <td>1782.300049</td>\n",
       "      <td>1822.150024</td>\n",
       "      <td>1822.150024</td>\n",
       "      <td>10324260.0</td>\n",
       "      <td>19</td>\n",
       "      <td>10</td>\n",
       "      <td>2021</td>\n",
       "    </tr>\n",
       "  </tbody>\n",
       "</table>\n",
       "<p>6487 rows × 10 columns</p>\n",
       "</div>"
      ],
      "text/plain": [
       "            Date         Open         High          Low        Close  \\\n",
       "0     1996-01-01     0.794921     0.796679     0.791015     0.796679   \n",
       "1     1996-01-02     0.794921     0.798828     0.793457     0.793457   \n",
       "2     1996-01-03     0.798828     0.798828     0.798828     0.798828   \n",
       "3     1996-01-04     0.791015     0.794921     0.791015     0.793554   \n",
       "4     1996-01-05     0.784179     0.784179     0.784179     0.784179   \n",
       "...          ...          ...          ...          ...          ...   \n",
       "6496  2021-10-12  1677.000000  1689.000000  1662.000000  1685.150024   \n",
       "6497  2021-10-13  1695.949951  1713.650024  1680.050049  1709.199951   \n",
       "6498  2021-10-14  1754.000000  1783.599976  1698.199951  1715.750000   \n",
       "6499  2021-10-18  1740.000000  1799.000000  1740.000000  1792.150024   \n",
       "6500  2021-10-19  1814.000000  1834.500000  1782.300049  1822.150024   \n",
       "\n",
       "        Adj Close      Volume  day  month  year  \n",
       "0        0.549483    204800.0    1      1  1996  \n",
       "1        0.547260    204800.0    2      1  1996  \n",
       "2        0.550965    102400.0    3      1  1996  \n",
       "3        0.547327    307200.0    4      1  1996  \n",
       "4        0.540861     51200.0    5      1  1996  \n",
       "...           ...         ...  ...    ...   ...  \n",
       "6496  1685.150024   7439300.0   12     10  2021  \n",
       "6497  1709.199951   7104171.0   13     10  2021  \n",
       "6498  1715.750000  19655776.0   14     10  2021  \n",
       "6499  1792.150024  13438109.0   18     10  2021  \n",
       "6500  1822.150024  10324260.0   19     10  2021  \n",
       "\n",
       "[6487 rows x 10 columns]"
      ]
     },
     "execution_count": 64,
     "metadata": {},
     "output_type": "execute_result"
    }
   ],
   "source": [
    "data.isnull().sum()\n",
    "\n",
    "splitted=data.Date.str.split('-',expand=True)\n",
    "\n",
    "data['day']=splitted[2].astype('int')\n",
    "data['month']=splitted[1].astype('int')\n",
    "data['year']=splitted[0].astype('int')\n",
    "\n",
    "data"
   ]
  },
  {
   "cell_type": "code",
   "execution_count": 50,
   "id": "16d17cda",
   "metadata": {},
   "outputs": [],
   "source": [
    "X=data.drop(['Close','Adj Close','Date'],axis='columns')\n",
    "Y=data['Close']\n",
    "\n",
    "from sklearn.model_selection import train_test_split\n",
    "\n",
    "x_train,x_test,y_train,y_test=train_test_split(X,Y,test_size=0.3)"
   ]
  },
  {
   "cell_type": "code",
   "execution_count": 51,
   "id": "ab2f808b",
   "metadata": {},
   "outputs": [
    {
     "data": {
      "text/plain": [
       "(4540, 7)"
      ]
     },
     "execution_count": 51,
     "metadata": {},
     "output_type": "execute_result"
    }
   ],
   "source": [
    "x_train.shape"
   ]
  },
  {
   "cell_type": "code",
   "execution_count": 52,
   "id": "0eabf754",
   "metadata": {},
   "outputs": [
    {
     "data": {
      "text/plain": [
       "LinearRegression()"
      ]
     },
     "execution_count": 52,
     "metadata": {},
     "output_type": "execute_result"
    }
   ],
   "source": [
    "from sklearn.linear_model import LinearRegression\n",
    "\n",
    "model=LinearRegression()\n",
    "\n",
    "model.fit(x_train,y_train)"
   ]
  },
  {
   "cell_type": "code",
   "execution_count": 57,
   "id": "6dd4e0df",
   "metadata": {},
   "outputs": [],
   "source": [
    "r=model.predict(x_test)"
   ]
  },
  {
   "cell_type": "code",
   "execution_count": 66,
   "id": "7a9abb9c",
   "metadata": {},
   "outputs": [
    {
     "data": {
      "text/plain": [
       "array([1805.69092811])"
      ]
     },
     "execution_count": 66,
     "metadata": {},
     "output_type": "execute_result"
    }
   ],
   "source": [
    "model.predict([[1814.000000,1834.500000,1782.300049,10324260.0,19,10,2021]])"
   ]
  },
  {
   "cell_type": "code",
   "execution_count": 63,
   "id": "ee53edd0",
   "metadata": {},
   "outputs": [
    {
     "data": {
      "text/plain": [
       "0.9999354048555242"
      ]
     },
     "execution_count": 63,
     "metadata": {},
     "output_type": "execute_result"
    }
   ],
   "source": [
    "model.score(x_test,y_test)"
   ]
  },
  {
   "cell_type": "code",
   "execution_count": 62,
   "id": "0859d2f0",
   "metadata": {},
   "outputs": [
    {
     "data": {
      "text/plain": [
       "dtype('float64')"
      ]
     },
     "execution_count": 62,
     "metadata": {},
     "output_type": "execute_result"
    }
   ],
   "source": [
    "y_test.dtype"
   ]
  },
  {
   "cell_type": "code",
   "execution_count": null,
   "id": "42417770",
   "metadata": {},
   "outputs": [],
   "source": []
  }
 ],
 "metadata": {
  "kernelspec": {
   "display_name": "Python 3 (ipykernel)",
   "language": "python",
   "name": "python3"
  },
  "language_info": {
   "codemirror_mode": {
    "name": "ipython",
    "version": 3
   },
   "file_extension": ".py",
   "mimetype": "text/x-python",
   "name": "python",
   "nbconvert_exporter": "python",
   "pygments_lexer": "ipython3",
   "version": "3.9.7"
  }
 },
 "nbformat": 4,
 "nbformat_minor": 5
}
